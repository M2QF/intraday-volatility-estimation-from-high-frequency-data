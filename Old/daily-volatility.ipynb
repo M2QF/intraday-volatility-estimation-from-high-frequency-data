{
 "cells": [
  {
   "cell_type": "code",
   "execution_count": null,
   "metadata": {},
   "outputs": [],
   "source": [
    "import pyodbc\n",
    "import matplotlib.pyplot as plt\n",
    "import numpy as np\n",
    "%matplotlib inline\n",
    "\n",
    "# Connect to the database\n",
    "conn_string = \"Driver={ODBC Driver 18 for SQL Server};Server=tcp:finance-datacenter.database.windows.net,1433;Database=high-frequency-data;Uid=CloudSA133cd0dc;Pwd=cloud.admin2023;Encrypt=yes;TrustServerCertificate=no;Connection Timeout=30;\""
   ]
  },
  {
   "cell_type": "code",
   "execution_count": null,
   "metadata": {},
   "outputs": [],
   "source": [
    "cnx = pyodbc.connect(conn_string)\n",
    "cursor = cnx.cursor()\n",
    "\n",
    "cursor.execute(\n",
    "    \"SELECT DISTINCT(date_time) FROM [dbo].[ive_tickbidask] WHERE date_time >= '2022-01-01 00:00:00.000';\"\n",
    ")\n",
    "\n",
    "\n",
    "dates = cursor.fetchall()\n",
    "\n",
    "\n",
    "cursor.close()\n",
    "cnx.close()\n",
    "\n",
    "\n",
    "dates = sorted(list(set([date[0].date() for date in dates])))"
   ]
  },
  {
   "cell_type": "code",
   "execution_count": null,
   "metadata": {},
   "outputs": [],
   "source": [
    "import asyncio\n",
    "from typing import Tuple\n",
    "from datetime import date\n",
    "\n",
    "\n",
    "async def get_data_from_date(date: date) -> Tuple[list[float], date]:\n",
    "    \"\"\"Get data from a specific date\n",
    "\n",
    "    Args:\n",
    "        date (date): date\n",
    "\n",
    "    Returns:\n",
    "        Tuple[list[float], date]: list of prices at the specific date\n",
    "    \"\"\"\n",
    "    cnx = pyodbc.connect(conn_string)\n",
    "    cursor = cnx.cursor()\n",
    "\n",
    "    cursor.execute(\n",
    "        \"SELECT price FROM [dbo].[ive_tickbidask] WHERE date_time >= '\"\n",
    "        + str(date)\n",
    "        + \" 00:00:00.000' AND date_time <= '\"\n",
    "        + str(date)\n",
    "        + \" 23:59:59.999';\"\n",
    "    )\n",
    "\n",
    "    data = [price[0] for price in cursor.fetchall()]\n",
    "\n",
    "    cursor.close()\n",
    "    cnx.close()\n",
    "\n",
    "    return data, date\n",
    "\n",
    "\n",
    "async def get_data(dates: list[dates]):\n",
    "    \"\"\"Gather all data\n",
    "\n",
    "    Args:\n",
    "        dates (list[dates]): list of dates\n",
    "\n",
    "    Yields:\n",
    "        Tuple[list[float], date]: data and date\n",
    "    \"\"\"\n",
    "    for future in asyncio.as_completed([get_data_from_date(date) for date in dates]):\n",
    "        yield await future"
   ]
  },
  {
   "cell_type": "code",
   "execution_count": null,
   "metadata": {},
   "outputs": [],
   "source": [
    "volatilities = {}\n",
    "async for data, date in get_data(dates):\n",
    "    returns = np.diff(data) / data[:-1]\n",
    "    volatilities[date] = np.sqrt(np.sum(returns**2) / len(returns)) * 100"
   ]
  },
  {
   "cell_type": "code",
   "execution_count": null,
   "metadata": {},
   "outputs": [],
   "source": [
    "volatilities = dict(sorted(volatilities.items(), key=lambda x: x[0]))"
   ]
  },
  {
   "cell_type": "code",
   "execution_count": null,
   "metadata": {},
   "outputs": [],
   "source": [
    "plt.figure(figsize=(20, 10))\n",
    "plt.plot(volatilities.keys(), volatilities.values())\n",
    "plt.title(\"Daily Volatility of IVE\")\n",
    "plt.xlabel(\"Date\")\n",
    "plt.ylabel(\"Volatility\")\n",
    "plt.show()"
   ]
  }
 ],
 "metadata": {
  "kernelspec": {
   "display_name": "Python 3",
   "language": "python",
   "name": "python3"
  },
  "language_info": {
   "codemirror_mode": {
    "name": "ipython",
    "version": 3
   },
   "file_extension": ".py",
   "mimetype": "text/x-python",
   "name": "python",
   "nbconvert_exporter": "python",
   "pygments_lexer": "ipython3",
   "version": "3.11.5"
  }
 },
 "nbformat": 4,
 "nbformat_minor": 2
}
