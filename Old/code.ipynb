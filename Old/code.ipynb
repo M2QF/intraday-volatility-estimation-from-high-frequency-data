{
 "cells": [
  {
   "cell_type": "code",
   "execution_count": null,
   "metadata": {},
   "outputs": [],
   "source": [
    "# Importing the necessary libraries\n",
    "from datetime import datetime, timedelta\n",
    "import matplotlib.pyplot as plt\n",
    "import pandas as pd\n",
    "import numpy as np\n",
    "import aiohttp\n",
    "import json\n",
    "import asyncio"
   ]
  },
  {
   "cell_type": "markdown",
   "metadata": {},
   "source": [
    "# Visualizing the data"
   ]
  },
  {
   "cell_type": "code",
   "execution_count": null,
   "metadata": {},
   "outputs": [],
   "source": [
    "async def get_data(year: int) -> pd.DataFrame:\n",
    "    url = (\n",
    "        \"https://high-frequency-data.shriimpe.fr/api/data/price?start_date=\"\n",
    "        + str(year)\n",
    "        + \"-01-01&end_date=\"\n",
    "        + str(year)\n",
    "        + \"-12-31\"\n",
    "    )\n",
    "\n",
    "    async with aiohttp.ClientSession() as session:\n",
    "        async with session.get(url) as response:\n",
    "            if response.status != 200:\n",
    "                raise Exception(f\"Error fetching data from {url}\")\n",
    "            data = await response.text()\n",
    "\n",
    "    data = json.loads(data)\n",
    "    return pd.DataFrame(data).drop(columns=[\"volume\"])\n",
    "\n",
    "\n",
    "dfs = await asyncio.gather(*[get_data(year) for year in range(2009, 2024)])"
   ]
  },
  {
   "cell_type": "code",
   "execution_count": null,
   "metadata": {},
   "outputs": [],
   "source": [
    "df = pd.concat(dfs)  # reading the file containg the data\n",
    "# df.columns = [\"Date\", \"Time\", \"price\", \"Bid\", \"Ask\", \"Volume\"]\n",
    "# df[\"Date\"] = df[\"Date\"].str.cat(df[\"Time\"], sep=\" \")\n",
    "# # Droppong columns that are not relevant for this project\n",
    "# df = df.drop(columns=[\"Time\", \"Bid\", \"Ask\", \"Volume\"])\n",
    "# df[\"Date\"] = pd.to_datetime(df[\"Date\"], format=\"%m/%d/%Y %H:%M:%S\")\n",
    "df.set_index(\"date_time\", inplace=True)\n",
    "df"
   ]
  },
  {
   "cell_type": "code",
   "execution_count": null,
   "metadata": {},
   "outputs": [],
   "source": [
    "# Plot the price based on the date\n",
    "plt.figure(figsize=(30, 15))  # Size figure\n",
    "plt.plot(df.index, df[\"price\"], marker=\".\", linestyle=\"-\", color=\"b\", label=\"price\")\n",
    "plt.title(\"Evolution of the price of the ticker S&P500 Value Index (IVE)\")\n",
    "plt.xlabel(\"Date\")\n",
    "plt.ylabel(\"Close price\")\n",
    "plt.grid(True)\n",
    "date_list = [\n",
    "    datetime(2009, 1, 1) + timedelta(days=365 * i)\n",
    "    for i in range((datetime(2023, 1, 1) - datetime(2009, 1, 1)).days // 365 + 1)\n",
    "]\n",
    "date_list_f = [date.strftime(\"%Y-%m-%d\") for date in date_list]\n",
    "plt.xticks(date_list)\n",
    "plt.legend(fontsize=20)\n",
    "plt.savefig(\"Image_1.png\")\n",
    "plt.show()"
   ]
  },
  {
   "cell_type": "markdown",
   "metadata": {},
   "source": [
    "### Outliers "
   ]
  },
  {
   "cell_type": "markdown",
   "metadata": {},
   "source": [
    "We notice some exaggeration in the price data for a specific date within the year 2010.\n",
    "\n",
    "The dates and prices for this time range are:"
   ]
  },
  {
   "cell_type": "code",
   "execution_count": null,
   "metadata": {},
   "outputs": [],
   "source": [
    "df[df[\"price\"] <= 28]"
   ]
  },
  {
   "cell_type": "markdown",
   "metadata": {},
   "source": [
    "We notice that this exaggeration is only present for the date 2010-05-06 at 2:00 PM, where prices move from more the $20 to $1.10.\n",
    "\n",
    "To be sure about this we take into consideration another source of financial data: Yahoo Finance. "
   ]
  },
  {
   "cell_type": "code",
   "execution_count": null,
   "metadata": {},
   "outputs": [],
   "source": [
    "import yfinance as yf\n",
    "\n",
    "ticker_symbol = \"IVE\"  # S&P 500 Value Index ticker symbol\n",
    "sp500_value_index = yf.Ticker(ticker_symbol)\n",
    "# retrieve historical data\n",
    "data_yfinance = sp500_value_index.history(period=\"20Y\")  # \"1d\" for today's data\n",
    "\n",
    "data_yfinance.index = data_yfinance.index.strftime(\"%Y-%m-%d\")\n",
    "data_yfinance.index = pd.to_datetime(data_yfinance.index, format=\"%Y-%m-%d\")\n",
    "\n",
    "# Selection of dates between 2009-09-28 and 2023-11-06\n",
    "data_yfinance = data_yfinance[\n",
    "    (data_yfinance.index >= datetime(2009, 9, 28))\n",
    "    & (data_yfinance.index <= datetime(2023, 11, 6))\n",
    "]\n",
    "data_yfinance = data_yfinance.drop(\n",
    "    columns=[\"Dividends\", \"Stock Splits\", \"Capital Gains\"]\n",
    ")\n",
    "\n",
    "data_yfinance"
   ]
  },
  {
   "cell_type": "code",
   "execution_count": null,
   "metadata": {},
   "outputs": [],
   "source": [
    "# Plot the price based on the date\n",
    "plt.figure(figsize=(30, 15))  # Size figure\n",
    "plt.plot(\n",
    "    data_yfinance.index,\n",
    "    data_yfinance[\"Close\"],\n",
    "    marker=\"\",\n",
    "    linestyle=\"-\",\n",
    "    color=\"r\",\n",
    "    label=\"Close price\",\n",
    ")\n",
    "plt.title(\n",
    "    \"Evolution of the Close price of the ticker S&P500 Value Index from Yahoo Finance\"\n",
    ")\n",
    "plt.xlabel(\"Date\")\n",
    "plt.ylabel(\"Close price\")\n",
    "plt.grid()\n",
    "date_list = [\n",
    "    datetime(2009, 1, 1) + timedelta(days=365 * i)\n",
    "    for i in range((datetime(2023, 1, 1) - datetime(2009, 1, 1)).days // 365 + 1)\n",
    "]\n",
    "date_list_f = [date.strftime(\"%Y-%m-%d\") for date in date_list]\n",
    "plt.xticks(date_list_f)\n",
    "plt.legend(fontsize=20)\n",
    "plt.savefig(\"Image_yfinance_IVE.png\")\n",
    "plt.show()"
   ]
  },
  {
   "cell_type": "code",
   "execution_count": null,
   "metadata": {},
   "outputs": [],
   "source": [
    "# Plotting on the same figure the prices from the two data sources\n",
    "plt.figure(figsize=(30, 15))\n",
    "plt.plot(\n",
    "    data_yfinance.index,\n",
    "    data_yfinance[\"Close\"],\n",
    "    marker=\"\",\n",
    "    linestyle=\"-\",\n",
    "    color=\"r\",\n",
    "    label=\"Close price\",\n",
    ")\n",
    "plt.plot(df.index, df[\"price\"], marker=\".\", linestyle=\"-\", color=\"b\", label=\"price\")\n",
    "plt.title(\n",
    "    \"Evolution of the Close price of the ticker S&P500 Value Index from Yahoo Finance and from Tick Data\"\n",
    ")\n",
    "plt.xlabel(\"Date\")\n",
    "plt.ylabel(\"Close price\")\n",
    "plt.grid()\n",
    "date_list = [\n",
    "    datetime(2009, 1, 1) + timedelta(days=365 * i)\n",
    "    for i in range((datetime(2023, 1, 1) - datetime(2009, 1, 1)).days // 365 + 1)\n",
    "]\n",
    "date_list_f = [date.strftime(\"%Y-%m-%d\") for date in date_list]\n",
    "plt.xticks(date_list_f)\n",
    "plt.legend(fontsize=20)\n",
    "plt.savefig(\"comparison_yfinance_data.png\")\n",
    "plt.show()"
   ]
  },
  {
   "cell_type": "markdown",
   "metadata": {},
   "source": [
    "We take a look into the data from Yahoo finance for the specific date of the outlier:"
   ]
  },
  {
   "cell_type": "code",
   "execution_count": null,
   "metadata": {},
   "outputs": [],
   "source": [
    "data_yfinance[data_yfinance.index == \"2010-05-06\"]"
   ]
  },
  {
   "cell_type": "markdown",
   "metadata": {},
   "source": [
    "We observe that for this same date, the data from Yahoo Finance indicates a low price of $21.50. Therefore, we choose to remove values for this date that exceed this amount"
   ]
  },
  {
   "cell_type": "code",
   "execution_count": null,
   "metadata": {},
   "outputs": [],
   "source": [
    "index_to_drop = df[df[\"price\"] <= 28].index.to_list()\n",
    "df.drop(index_to_drop, inplace=True)"
   ]
  },
  {
   "cell_type": "markdown",
   "metadata": {},
   "source": [
    "We look for the price chart again once the outliers were deleted:"
   ]
  },
  {
   "cell_type": "code",
   "execution_count": null,
   "metadata": {},
   "outputs": [],
   "source": [
    "plt.figure(figsize=(30, 15))\n",
    "plt.plot(df.index, df[\"price\"], marker=\".\", linestyle=\"-\", color=\"b\", label=\"price\")\n",
    "plt.title(\n",
    "    \"Evolution of the price of the ticker S&P500 Value Index (IVE) without the outliers\"\n",
    ")\n",
    "plt.xlabel(\"Date\")\n",
    "plt.ylabel(\"Close price\")\n",
    "plt.grid(True)\n",
    "date_list = [\n",
    "    datetime(2009, 1, 1) + timedelta(days=365 * i)\n",
    "    for i in range((datetime(2023, 1, 1) - datetime(2009, 1, 1)).days // 365 + 1)\n",
    "]\n",
    "date_list_f = [date.strftime(\"%Y-%m-%d\") for date in date_list]\n",
    "plt.xticks(date_list)\n",
    "plt.legend(fontsize=20)\n",
    "plt.savefig(\"Image_1_without_outliers.png\")\n",
    "plt.show()"
   ]
  },
  {
   "cell_type": "markdown",
   "metadata": {},
   "source": [
    "### Focusing on the last year "
   ]
  },
  {
   "cell_type": "code",
   "execution_count": null,
   "metadata": {},
   "outputs": [],
   "source": [
    "df_last_y = df[df.index >= datetime(2022, 1, 1)]\n",
    "data_yfinance_last_y = data_yfinance[data_yfinance.index >= datetime(2022, 1, 1)]"
   ]
  },
  {
   "cell_type": "code",
   "execution_count": null,
   "metadata": {},
   "outputs": [],
   "source": [
    "plt.figure(figsize=(30, 15))\n",
    "plt.plot(df_last_y.index, df_last_y[\"price\"], linestyle=\"-\", color=\"b\", label=\"price\")\n",
    "plt.plot(\n",
    "    data_yfinance_last_y.index,\n",
    "    data_yfinance_last_y[\"Close\"],\n",
    "    linestyle=\"-\",\n",
    "    color=\"r\",\n",
    "    label=\"price YFinance\",\n",
    ")\n",
    "plt.title(\n",
    "    \"Evolution of the price of the ticker S&P500 Value Index (IVE) from last year until today (Yahoo Finance)\"\n",
    ")\n",
    "plt.xlabel(\"Date\")\n",
    "plt.ylabel(\"Close price\")\n",
    "plt.grid(True)\n",
    "# date_list = [datetime(2009, 1, 1) + timedelta(days=365 * i) for i in range((datetime(2023,1, 1) - datetime(2009, 1, 1)).days // 365 + 1)]\n",
    "# date_list_f = [date.strftime(\"%Y-%m-%d\") for date in date_list]\n",
    "# plt.xticks(date_list)\n",
    "plt.legend(fontsize=20)\n",
    "plt.savefig(\"compare_yfinance_last_year_to_today.png\")\n",
    "plt.show()"
   ]
  },
  {
   "cell_type": "markdown",
   "metadata": {},
   "source": [
    "# Realized Volatility "
   ]
  },
  {
   "cell_type": "markdown",
   "metadata": {},
   "source": [
    "### Returns for different observations frequency "
   ]
  },
  {
   "cell_type": "markdown",
   "metadata": {},
   "source": [
    "- Réaliser une fonction qui permet de renvoyer les retours selon les différentes fréquence\n",
    "- Réaliser différentes fonction qui calculent la volatilité, selon différentes manières de calculs de la volatilité\n",
    "- Déterminer la long-range volatility estimation \n",
    "- Déterminer la microstructure noise selon différentes façon \n",
    "- La cacluler pour différentes intervalles et trouver un pattern \n",
    "- Ploter la daily volatility pour l'année passée "
   ]
  },
  {
   "cell_type": "code",
   "execution_count": null,
   "metadata": {},
   "outputs": [],
   "source": [
    "# different interval of frequencies taken into consideration\n",
    "observation_frequencies = [\n",
    "    \"30 seconds\",\n",
    "    \"1 minutes\",\n",
    "    \"3 minutes\",\n",
    "    \"5 minutes\",\n",
    "    \"10 minutes\",\n",
    "    \"15 minutes\",\n",
    "    \"1 hours\",\n",
    "    \"1 days\",\n",
    "]\n",
    "\n",
    "\n",
    "# function returning the dataframe df with a new column returns depending on the frequency\n",
    "def returns(frequency, df):\n",
    "    dates = [df.index[0]]\n",
    "    frequency = \"30 seconds\"\n",
    "    for date in df.index:\n",
    "        if date - dates[-1] >= pd.Timedelta(frequency):\n",
    "            dates.append(date)\n",
    "\n",
    "    partial_df = df[df.index.isin(dates)]\n",
    "\n",
    "    partial_df[\"Returns\"] = partial_df[\"price\"].pct_change()\n",
    "    partial_df\n",
    "\n",
    "    return partial_df"
   ]
  },
  {
   "cell_type": "code",
   "execution_count": null,
   "metadata": {},
   "outputs": [],
   "source": [
    "frequency = observation_frequencies[0]\n",
    "partial_df = returns(frequency, df)\n",
    "plt.figure(figsize=(30, 15))\n",
    "plt.plot(partial_df.index, partial_df[\"Returns\"], label=\"Returns\")\n",
    "plt.title(\n",
    "    \"Returns of the ticker S&P500 Value Index (IVE) with a frequency of 30 seconds\"\n",
    ")\n",
    "plt.xlabel(\"Date\")\n",
    "plt.ylabel(\"Returns\")\n",
    "plt.grid(True)\n",
    "plt.legend(fontsize=15)\n",
    "plt.show()"
   ]
  },
  {
   "cell_type": "markdown",
   "metadata": {},
   "source": [
    "### Volatility based on different time range"
   ]
  },
  {
   "cell_type": "code",
   "execution_count": null,
   "metadata": {},
   "outputs": [],
   "source": [
    "time_range = {}\n",
    "time_range[\"1 days\"] = pd.Timedelta(days=1)\n",
    "time_range[\"1 weeks\"] = pd.Timedelta(weeks=1)\n",
    "time_range[\"1 months\"] = pd.Timedelta(days=30)\n",
    "time_range[\"3 months\"] = pd.Timedelta(days=90)\n",
    "time_range[\"6 months\"] = pd.Timedelta(days=180)\n",
    "time_range[\"1 years\"] = pd.Timedelta(days=365)"
   ]
  },
  {
   "cell_type": "code",
   "execution_count": null,
   "metadata": {},
   "outputs": [],
   "source": [
    "# function returning a list of dates between the start and end date with a given frequency\n",
    "def date_range(start_date, end_date, time_r):\n",
    "    dates = [start_date]\n",
    "    date = start_date\n",
    "    delta = time_range[time_r]\n",
    "    while date < end_date:\n",
    "        date += delta\n",
    "        dates.append(date)\n",
    "    return dates"
   ]
  },
  {
   "cell_type": "code",
   "execution_count": null,
   "metadata": {},
   "outputs": [],
   "source": [
    "# function returning a list of the volatility of the returns of the ticker S&P500 Value Index (IVE) with a given time range\n",
    "# dataframe df containing already the returns for a specific frequency\n",
    "def volatility(time_r, df_with_returns):\n",
    "    start_date = df_with_returns.index[0]\n",
    "    end_date = df_with_returns.index[-1]\n",
    "    date_list = date_range(start_date, end_date, time_r)\n",
    "\n",
    "    volatility = []\n",
    "    for i in range(len(date_list) - 1):\n",
    "        partial_df = df_with_returns[\n",
    "            (df_with_returns.index >= date_list[i])\n",
    "            & (df_with_returns.index < date_list[i + 1])\n",
    "        ]\n",
    "        volatility.append(partial_df[\"Returns\"].std())\n",
    "    return (volatility, date_list)"
   ]
  },
  {
   "cell_type": "code",
   "execution_count": null,
   "metadata": {},
   "outputs": [],
   "source": [
    "(daily_volatility, date_list) = volatility(\"1 days\", partial_df)"
   ]
  },
  {
   "cell_type": "code",
   "execution_count": null,
   "metadata": {},
   "outputs": [],
   "source": [
    "plt.figure(figsize=(30, 15))\n",
    "plt.plot(date_list[:-1], daily_volatility, label=\"Daily Volatility\")\n",
    "plt.title(\n",
    "    \"Daily Volatility of the ticker S&P500 Value Index (IVE) with a frequency of 30 seconds\"\n",
    ")\n",
    "plt.xlabel(\"Date\")\n",
    "plt.ylabel(\"Volatility (%)\")\n",
    "plt.grid(True)\n",
    "plt.legend(fontsize=15)\n",
    "plt.show()"
   ]
  },
  {
   "cell_type": "markdown",
   "metadata": {},
   "source": [
    "### Long-range volatility estimation "
   ]
  },
  {
   "cell_type": "code",
   "execution_count": null,
   "metadata": {},
   "outputs": [],
   "source": [
    "# function that returns the long-range volatility of the ticker S&P500 Value Index (IVE) with a given time range based on daily returns\n",
    "def long_range_volatility(long_range_time, df):\n",
    "    # daily returns\n",
    "    df_with_returns = returns(\"1 days\", df)\n",
    "    # calculating the volatility\n",
    "    return volatility(long_range_time, df_with_returns)"
   ]
  },
  {
   "cell_type": "code",
   "execution_count": null,
   "metadata": {},
   "outputs": [],
   "source": [
    "(daily_volatility, date_list) = long_range_volatility(\"1 months\", df)"
   ]
  },
  {
   "cell_type": "markdown",
   "metadata": {},
   "source": [
    "# Market Noise Microstructure"
   ]
  },
  {
   "cell_type": "markdown",
   "metadata": {},
   "source": []
  }
 ],
 "metadata": {
  "kernelspec": {
   "display_name": "Python 3",
   "language": "python",
   "name": "python3"
  },
  "language_info": {
   "codemirror_mode": {
    "name": "ipython",
    "version": 3
   },
   "file_extension": ".py",
   "mimetype": "text/x-python",
   "name": "python",
   "nbconvert_exporter": "python",
   "pygments_lexer": "ipython3",
   "version": "3.11.5"
  }
 },
 "nbformat": 4,
 "nbformat_minor": 2
}
