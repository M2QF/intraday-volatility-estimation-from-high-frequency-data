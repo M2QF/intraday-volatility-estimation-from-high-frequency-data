{
 "cells": [
  {
   "cell_type": "code",
   "execution_count": null,
   "metadata": {},
   "outputs": [],
   "source": [
    "import pyodbc\n",
    "import matplotlib.pyplot as plt\n",
    "import pandas as pd\n",
    "%matplotlib inline\n",
    "\n",
    "# Connect to the database\n",
    "conn_string = \"Driver={ODBC Driver 18 for SQL Server};Server=tcp:finance-datacenter.database.windows.net,1433;Database=high-frequency-data;Uid=CloudSA133cd0dc;Pwd=cloud.admin2023;Encrypt=yes;TrustServerCertificate=no;Connection Timeout=30;\"\n",
    "\n",
    "cnx = pyodbc.connect(conn_string)\n",
    "\n",
    "# Query the database\n",
    "\n",
    "df = pd.read_sql(\"SELECT date_time, price FROM [dbo].[ive_tickbidask] WHERE date_time >= '2022-01-01 00:00:00.000';\", cnx, index_col='date_time', parse_dates=['date_time'])\n",
    "\n",
    "cnx.close()"
   ]
  },
  {
   "cell_type": "code",
   "execution_count": null,
   "metadata": {},
   "outputs": [],
   "source": [
    "plt.figure(figsize=(20, 10))\n",
    "plt.plot(df.index, df[\"price\"], label=\"Price\")\n",
    "plt.legend()\n",
    "plt.show()"
   ]
  },
  {
   "cell_type": "code",
   "execution_count": null,
   "metadata": {},
   "outputs": [],
   "source": [
    "import numpy as np\n",
    "\n",
    "returns = np.array(\n",
    "    [\n",
    "        (df[\"price\"][i] - df[\"price\"][i - 1]) / df[\"price\"][i - 1] * 100\n",
    "        for i in range(1, len(df))\n",
    "    ]\n",
    ")\n",
    "plt.figure(figsize=(20, 10))\n",
    "plt.plot(df.index[1:], returns)\n",
    "plt.show()"
   ]
  },
  {
   "cell_type": "code",
   "execution_count": null,
   "metadata": {},
   "outputs": [],
   "source": [
    "sq_returns_sum = sum(returns**2)\n",
    "print(\"Volatility: \", np.sqrt(sq_returns_sum / len(returns)) * 100, \"%\", sep=\"\")"
   ]
  },
  {
   "cell_type": "code",
   "execution_count": null,
   "metadata": {},
   "outputs": [],
   "source": [
    "dates = [df.index[0]]\n",
    "\n",
    "for date in df.index:\n",
    "    if date - dates[-1] >= pd.Timedelta(\"30 seconds\"):\n",
    "        dates.append(date)\n",
    "\n",
    "partial_df = df[df.index.isin(dates)]\n",
    "partial_df"
   ]
  },
  {
   "cell_type": "code",
   "execution_count": null,
   "metadata": {},
   "outputs": [],
   "source": [
    "plt.figure(figsize=(20, 10))\n",
    "plt.plot(partial_df.index, partial_df[\"price\"], label=\"Price\")\n",
    "plt.legend()\n",
    "plt.show()"
   ]
  },
  {
   "cell_type": "code",
   "execution_count": null,
   "metadata": {},
   "outputs": [],
   "source": [
    "returns = np.array(\n",
    "    [\n",
    "        (partial_df[\"price\"][i] - partial_df[\"price\"][i - 1])\n",
    "        / partial_df[\"price\"][i - 1]\n",
    "        * 100\n",
    "        for i in range(1, len(partial_df))\n",
    "    ]\n",
    ")\n",
    "plt.figure(figsize=(20, 10))\n",
    "plt.plot(partial_df.index[1:], returns)\n",
    "\n",
    "\n",
    "sq_returns_sum = sum(returns**2)\n",
    "print(\"Volatility: \", np.sqrt(sq_returns_sum / len(returns)) * 100, \"%\", sep=\"\")\n",
    "\n",
    "plt.show()"
   ]
  }
 ],
 "metadata": {
  "kernelspec": {
   "display_name": "Python 3",
   "language": "python",
   "name": "python3"
  },
  "language_info": {
   "codemirror_mode": {
    "name": "ipython",
    "version": 3
   },
   "file_extension": ".py",
   "mimetype": "text/x-python",
   "name": "python",
   "nbconvert_exporter": "python",
   "pygments_lexer": "ipython3",
   "version": "3.11.5"
  }
 },
 "nbformat": 4,
 "nbformat_minor": 2
}
