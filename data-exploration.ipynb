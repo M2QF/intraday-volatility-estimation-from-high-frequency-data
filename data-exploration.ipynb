{
 "cells": [
  {
   "cell_type": "code",
   "execution_count": null,
   "metadata": {},
   "outputs": [],
   "source": [
    "import pyodbc\n",
    "import matplotlib.pyplot as plt\n",
    "import pandas as pd\n",
    "%matplotlib inline\n",
    "\n",
    "# Connect to the database\n",
    "conn_string = \"Driver={ODBC Driver 18 for SQL Server};Server=tcp:finance-datacenter.database.windows.net,1433;Database=high-frequency-data;Uid=CloudSA133cd0dc;Pwd=cloud.admin2023;Encrypt=yes;TrustServerCertificate=no;Connection Timeout=30;\"\n",
    "\n",
    "cnx = pyodbc.connect(conn_string)\n",
    "\n",
    "# Query the database\n",
    "\n",
    "df = pd.read_sql(\"SELECT date_time, price FROM [dbo].[ive_tickbidask];\", cnx, index_col='date_time', parse_dates=['date_time'])\n",
    "\n",
    "cnx.close()"
   ]
  },
  {
   "cell_type": "code",
   "execution_count": null,
   "metadata": {},
   "outputs": [],
   "source": [
    "plt.figure(figsize=(20,10))\n",
    "plt.plot(df.index, df[\"price\"], label=\"Price\")\n",
    "plt.legend()\n",
    "plt.show()"
   ]
  },
  {
   "cell_type": "code",
   "execution_count": null,
   "metadata": {},
   "outputs": [],
   "source": [
    "import numpy as np\n",
    "\n",
    "returns = np.array([(df[\"price\"][i] - df[\"price\"][i-1]) / df[\"price\"][i-1] * 100 for i in range(1, len(df))])\n",
    "plt.figure(figsize=(20,10))\n",
    "plt.plot(df.index[1:], returns)\n",
    "plt.show()"
   ]
  },
  {
   "cell_type": "code",
   "execution_count": null,
   "metadata": {},
   "outputs": [],
   "source": [
    "sq_returns_sum = sum(returns ** 2)\n",
    "print(\"Volatility: \", np.sqrt(sq_returns_sum / len(returns)) * 100, \"%\", sep='')"
   ]
  }
 ],
 "metadata": {
  "kernelspec": {
   "display_name": "Python 3",
   "language": "python",
   "name": "python3"
  },
  "language_info": {
   "codemirror_mode": {
    "name": "ipython",
    "version": 3
   },
   "file_extension": ".py",
   "mimetype": "text/x-python",
   "name": "python",
   "nbconvert_exporter": "python",
   "pygments_lexer": "ipython3",
   "version": "3.11.5"
  }
 },
 "nbformat": 4,
 "nbformat_minor": 2
}
